{
 "cells": [
  {
   "cell_type": "code",
   "execution_count": null,
   "metadata": {},
   "outputs": [],
   "source": [
    "import pandas as pd\n",
    "import numpy as np"
   ]
  },
  {
   "cell_type": "code",
   "execution_count": null,
   "metadata": {},
   "outputs": [],
   "source": [
    "# The huge spreadsheet\n",
    "path_csv_ss = '/home/local/VANDERBILT/gaoc11/Projects/Variance-Aging-Diffusion/Data/BLSA_Brain_stats_concat_20221110_delivery.csv'\n",
    "# The motion data\n",
    "path_csv_motion = '/home/local/VANDERBILT/gaoc11/Projects/Variance-Aging-Diffusion/Data/BLSA_eddy_movement_rms_average_20221109.csv'\n",
    "\n",
    "df_ss = pd.read_csv(path_csv_ss)\n",
    "df_motion = pd.read_csv(path_csv_motion)"
   ]
  },
  {
   "cell_type": "code",
   "execution_count": null,
   "metadata": {},
   "outputs": [],
   "source": [
    "df_ss"
   ]
  },
  {
   "cell_type": "code",
   "execution_count": null,
   "metadata": {},
   "outputs": [],
   "source": [
    "df_motion"
   ]
  },
  {
   "cell_type": "markdown",
   "metadata": {},
   "source": [
    "### Which column in the huge spreadsheet has the least NaN values? We can start from that region."
   ]
  },
  {
   "cell_type": "code",
   "execution_count": null,
   "metadata": {},
   "outputs": [],
   "source": [
    "df_ss.isna().sum()"
   ]
  },
  {
   "cell_type": "markdown",
   "metadata": {},
   "source": [
    "### Most do not have NaN values. We can pick our favorite region manually. Corpus callosum can be a start. \n",
    "\n",
    "\"a significant increase in axon diameter index with advancing age in the whole corpus callosum\" [1]\n",
    "\n",
    "[1] Genc, Sila, et al. \"Age, sex, and puberty related development of the corpus callosum: a multi-technique diffusion MRI study.\" Brain Structure and Function 223.6 (2018): 2753-2765.\n",
    "\n",
    "`EveType1`\n",
    "\n",
    "140 Genu_of_corpus_callosum_right\n",
    "\n",
    "141 Body_of_corpus_callosum_right \n",
    "\n",
    "142 Splenium_of_corpus_callosum_right\n",
    "\n",
    "`EveType2`\n",
    "\n",
    "117 Genu_of_corpus_callosum_right\n",
    "\n",
    "118 Body_of_corpus_callosum_right\n",
    "\n",
    "119 Splenium_of_corpus_callosum_right\n",
    "\n",
    "`EveType3`\n",
    "\n",
    "111 Genu_of_corpus_callosum_right\n",
    "\n",
    "112 Body_of_corpus_callosum_right\n",
    "\n",
    "113 Splenium_of_corpus_callosum_right\n",
    "\n",
    "### Start with 'EveType1-140'"
   ]
  },
  {
   "cell_type": "code",
   "execution_count": null,
   "metadata": {},
   "outputs": [],
   "source": [
    "for col in df_ss.columns:\n",
    "    if 'EveType1-140' in col:\n",
    "        print(col)"
   ]
  },
  {
   "cell_type": "markdown",
   "metadata": {},
   "source": [
    "### Prepare the dataframe"
   ]
  },
  {
   "cell_type": "code",
   "execution_count": null,
   "metadata": {},
   "outputs": [],
   "source": [
    "df_ss.columns"
   ]
  },
  {
   "cell_type": "code",
   "execution_count": null,
   "metadata": {},
   "outputs": [],
   "source": [
    "selected_atlas_type = 'EveType1'\n",
    "selected_region_id = '140'\n",
    "selected_measure_type = 'FA_std'\n",
    "\n",
    "\n",
    "for col in df_ss.columns:\n",
    "    # Skip the session column\n",
    "    if col == 'Session':\n",
    "        continue\n",
    "    # Parse the column name \n",
    "    atlas_type = col.split(' ')[0].split('-')[0]\n",
    "    region_id  = col.split(' ')[0].split('-')[1]\n",
    "    if '-Volume' in col:\n",
    "        measure_type = 'volume'\n",
    "        dti_id = None\n",
    "    elif ('-mean' in col) or ('-std' in col):\n",
    "        measure_type = \"{0}_{1}\".format(col.split('-')[-2],col.split('-')[-1])\n",
    "        # DTI1 or DTI2? (we don't care about DTI_double here)\n",
    "        if 'DTI1' in col:\n",
    "            dti_id = 'DTI1'\n",
    "        elif 'DTI2' in col:\n",
    "            dti_id = 'DTI2'\n",
    "        else:\n",
    "            dti_id = 'DTI_double'\n",
    "    else:\n",
    "        print('Some measure types are missing.')\n",
    "        exit()\n",
    "    "
   ]
  },
  {
   "cell_type": "markdown",
   "metadata": {},
   "source": [
    "### Should 'the number of sessions in the past' be considered as a fixed effects?"
   ]
  },
  {
   "cell_type": "markdown",
   "metadata": {},
   "source": []
  }
 ],
 "metadata": {
  "kernelspec": {
   "display_name": "Python 3.10.4 ('hardiff')",
   "language": "python",
   "name": "python3"
  },
  "language_info": {
   "codemirror_mode": {
    "name": "ipython",
    "version": 3
   },
   "file_extension": ".py",
   "mimetype": "text/x-python",
   "name": "python",
   "nbconvert_exporter": "python",
   "pygments_lexer": "ipython3",
   "version": "3.10.4"
  },
  "orig_nbformat": 4,
  "vscode": {
   "interpreter": {
    "hash": "872c5944c93d3d41a7f7d9c45586595a9c1fb8c904bedd6fb963d348f20c5562"
   }
  }
 },
 "nbformat": 4,
 "nbformat_minor": 2
}
